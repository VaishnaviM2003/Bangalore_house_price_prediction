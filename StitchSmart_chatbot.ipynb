{
  "cells": [
    {
      "cell_type": "code",
      "execution_count": 1,
      "metadata": {
        "id": "aABBYLrjO-F-"
      },
      "outputs": [],
      "source": [
        "import numpy as np\n",
        "import pandas as pd\n",
        "import nltk\n",
        "import string\n",
        "import random\n",
        "import json\n",
        "import re\n",
        "from sklearn.svm import SVC\n",
        "from sklearn.pipeline import Pipeline\n",
        "from sklearn.feature_extraction.text import TfidfVectorizer\n",
        "from sklearn.metrics.pairwise import cosine_similarity\n",
        "from google.colab import drive"
      ]
    },
    {
      "cell_type": "code",
      "execution_count": 2,
      "metadata": {
        "colab": {
          "base_uri": "https://localhost:8080/"
        },
        "id": "J0xmpN-wPM2N",
        "outputId": "4412cd98-0b7c-4448-b1b4-fe5e2635c59e"
      },
      "outputs": [
        {
          "output_type": "stream",
          "name": "stdout",
          "text": [
            "Drive already mounted at /content/drive; to attempt to forcibly remount, call drive.mount(\"/content/drive\", force_remount=True).\n"
          ]
        }
      ],
      "source": [
        "drive.mount('/content/drive')"
      ]
    },
    {
      "cell_type": "code",
      "execution_count": 3,
      "metadata": {
        "id": "rFdCiogRPTBr"
      },
      "outputs": [],
      "source": [
        "with open('/content/drive/MyDrive/conversation.json', 'r', errors='ignore') as f:\n",
        "    data = json.load(f)\n",
        "\n",
        "# Convert data to DataFrame\n",
        "df = pd.DataFrame(data['intents'])\n",
        "dress_designs = data.get('dress_designs', {})\n",
        "measurements_data = data.get('measurements_data', {})"
      ]
    },
    {
      "cell_type": "code",
      "execution_count": 4,
      "metadata": {
        "id": "CN9pqxpQPaC0"
      },
      "outputs": [],
      "source": [
        "patterns = []\n",
        "responses = []\n",
        "tags = []\n",
        "\n",
        "for intent in data['intents']:\n",
        "    for pattern in intent['patterns']:\n",
        "        patterns.append(pattern)\n",
        "        responses.append(intent['responses'])\n",
        "        tags.append(intent['tag'])"
      ]
    },
    {
      "cell_type": "code",
      "execution_count": 5,
      "metadata": {
        "colab": {
          "base_uri": "https://localhost:8080/"
        },
        "id": "89EulT6jPdah",
        "outputId": "d37fc7ba-0bf8-46c3-f194-5f4878507979"
      },
      "outputs": [
        {
          "output_type": "stream",
          "name": "stderr",
          "text": [
            "[nltk_data] Downloading package punkt to /root/nltk_data...\n",
            "[nltk_data]   Unzipping tokenizers/punkt.zip.\n",
            "[nltk_data] Downloading package wordnet to /root/nltk_data...\n"
          ]
        },
        {
          "output_type": "execute_result",
          "data": {
            "text/plain": [
              "True"
            ]
          },
          "metadata": {},
          "execution_count": 5
        }
      ],
      "source": [
        "raw_doc = ' '.join(patterns)  # Combine all patterns into a single document\n",
        "raw_doc = raw_doc.lower()  # Convert text to lowercase\n",
        "nltk.download('punkt')  # Download the Punkt tokenizer\n",
        "nltk.download('wordnet')  # Download the WordNet dictionary"
      ]
    },
    {
      "cell_type": "code",
      "execution_count": 6,
      "metadata": {
        "id": "ISU4v07OPhLv"
      },
      "outputs": [],
      "source": [
        "lemmer = nltk.stem.WordNetLemmatizer()\n",
        "\n",
        "def LemNormalize(text):\n",
        "    remove_punct_dict = dict((ord(punct), None) for punct in string.punctuation)\n",
        "    return [lemmer.lemmatize(token) for token in nltk.word_tokenize(text.lower().translate(remove_punct_dict))]"
      ]
    },
    {
      "cell_type": "code",
      "execution_count": 7,
      "metadata": {
        "colab": {
          "base_uri": "https://localhost:8080/"
        },
        "id": "xftNLqUFPlp1",
        "outputId": "67fd4611-ec70-4a70-c724-f6a89f22a73d"
      },
      "outputs": [
        {
          "output_type": "stream",
          "name": "stderr",
          "text": [
            "/usr/local/lib/python3.10/dist-packages/sklearn/feature_extraction/text.py:528: UserWarning: The parameter 'token_pattern' will not be used since 'tokenizer' is not None'\n",
            "  warnings.warn(\n",
            "/usr/local/lib/python3.10/dist-packages/sklearn/feature_extraction/text.py:409: UserWarning: Your stop_words may be inconsistent with your preprocessing. Tokenizing the stop words generated tokens ['ha', 'le', 'u', 'wa'] not in stop_words.\n",
            "  warnings.warn(\n"
          ]
        }
      ],
      "source": [
        "TfidVec = TfidfVectorizer(tokenizer=LemNormalize, stop_words='english')\n",
        "tfidf = TfidVec.fit_transform(patterns)\n",
        "\n",
        "# Define greetings and farewells\n",
        "greetings = [\"hi\", \"hello\", \"hey\", \"good morning\", \"good afternoon\", \"good evening\"]\n",
        "farewells = [\"bye\", \"goodbye\", \"see you later\", \"take care\"]\n",
        "\n",
        "# Initialize conversation context\n",
        "context = {'prev_input': None, 'prev_response': None}"
      ]
    },
    {
      "cell_type": "code",
      "execution_count": 8,
      "metadata": {
        "id": "-6dkXLG5Ppgw"
      },
      "outputs": [],
      "source": [
        "def get_previous_line(file_path, target_line=\"Give the design ID you've chosen\"):\n",
        "    previous_line = None\n",
        "    with open(file_path, 'r') as file:\n",
        "        lines = file.readlines()\n",
        "        for i, line in enumerate(lines):\n",
        "            if line.strip() == target_line:\n",
        "                # Check if it's not the first line\n",
        "                if i > 0:\n",
        "                    previous_line = lines[i - 1].strip()\n",
        "                break\n",
        "    return previous_line"
      ]
    },
    {
      "cell_type": "code",
      "execution_count": 9,
      "metadata": {
        "id": "kgkuXNquSoeb"
      },
      "outputs": [],
      "source": [
        "def get_tailor_details(tailor_id, data):\n",
        "    tailors = data.get('tailors', [])\n",
        "    for tailor in tailors:\n",
        "        if tailor['tailor_id'] == tailor_id:\n",
        "            return tailor\n",
        "    return None"
      ]
    },
    {
      "cell_type": "code",
      "execution_count": 10,
      "metadata": {
        "colab": {
          "base_uri": "https://localhost:8080/"
        },
        "id": "pkUBcPFvHg3d",
        "outputId": "db3ccf75-7a41-41a9-db89-52e5fa9e7a36"
      },
      "outputs": [
        {
          "output_type": "stream",
          "name": "stdout",
          "text": [
            "Bot: I'm Stark. Feel free to ask me anything\n",
            "User: Hi\n",
            "Bot: Hello there. Customize stitching services at your doorstep! What dress style are you looking for?\n",
            "User: Kurti\n",
            "Bot: Give the design ID you've chosen\n",
            "User: 20\n",
            "Bot: You have chosen the following design:\n",
            "Style: Herringbone\n",
            "Please enter the color.\n",
            "User: Black\n",
            "Bot: You have chosen the color: Black.\n",
            "Please enter the fabric.\n",
            "User: Cotton\n",
            "Bot: You have chosen the fabric: Cotton\n",
            "Confirm your selection of\n",
            "design: Herringbone\n",
            "color: Black\n",
            "fabric: Cotton? (Yes/No)\n",
            "User: Yes\n",
            "\n",
            "Dress Type: kurti\n",
            "Please select your measurements:\n",
            "\n",
            "Chest:\n",
            "S(38)\n",
            "M(40)\n",
            "L(42)\n",
            "XL(44)\n",
            "XXL(46)\n",
            "XXXL(48)\n",
            "Enter your choice: M\n",
            "\n",
            "Waist:\n",
            "S(34)\n",
            "M(36)\n",
            "L(38)\n",
            "XL(40)\n",
            "XXL(42)\n",
            "XXXL(44)\n",
            "Enter your choice: S\n",
            "\n",
            "Hip:\n",
            "S(39)\n",
            "M(41)\n",
            "L(43)\n",
            "XL(45)\n",
            "XXL(47)\n",
            "XXXL(49)\n",
            "Enter your choice: S\n",
            "\n",
            "Short tunic length:\n",
            "S(26-34)\n",
            "M(26-34)\n",
            "L(26-34)\n",
            "XL(26-34)\n",
            "XXL(26-34)\n",
            "XXXL(26-34)\n",
            "Enter your choice: M\n",
            "\n",
            "Long kurti length:\n",
            "S(38/42)\n",
            "M(38/42)\n",
            "L(38/42)\n",
            "XL(38/42)\n",
            "XXL(38/42)\n",
            "XXXL(38/42)\n",
            "Enter your choice: M\n",
            "\n",
            "Sleeve length:\n",
            "Three-quarter(17)\n",
            "Long(20)\n",
            "Short(12)\n",
            "Sleevless(0)\n",
            "Cap sleeve(4)\n",
            "Enter your choice: Short\n",
            "\n",
            "Shoulder:\n",
            "S(14.5)\n",
            "M(15)\n",
            "L(15.5)\n",
            "XL(16)\n",
            "XXL(16.5)\n",
            "XXXL(17)\n",
            "Enter your choice: M\n",
            "\n",
            "Selected Measurements:\n",
            "{\n",
            "  \"dress_style\": \"kurti\",\n",
            "  \"Chest\": \"M\",\n",
            "  \"Waist\": \"S\",\n",
            "  \"Hip\": \"S\",\n",
            "  \"Short tunic length\": \"M\",\n",
            "  \"Long kurti length\": \"M\",\n",
            "  \"Sleeve length\": \"SHORT\",\n",
            "  \"Shoulder\": \"M\"\n",
            "}\n",
            "Please enter the tailor ID you want to connect to from the website: 1\n",
            "Tailor Details:\n",
            "{\n",
            "  \"tailor_id\": \"1\",\n",
            "  \"name\": \"John Doe\",\n",
            "  \"location\": \"Bangalore\",\n",
            "  \"contact\": \"+91-9567843298\",\n",
            "  \"email\": \"john@gmail.com\"\n",
            "}\n",
            "Bot: Great! You've chosen tailor John Doe located in Bangalore. Contact them at +91-9567843298 for further assistance.\n",
            "User: thank you\n",
            "Bot: Happy to help!\n",
            "User: bye\n",
            "Bot: Goodbye! Take care.\n"
          ]
        }
      ],
      "source": [
        "def generate_response(user_input, context):\n",
        "    global tfidf, responses, tags\n",
        "\n",
        "    # Check if user input is a greeting or farewell\n",
        "    if user_input.lower() in greetings:\n",
        "        return random.choice(responses[tags.index(\"greeting\")]), context\n",
        "    elif user_input.lower() in farewells:\n",
        "        return random.choice(responses[tags.index(\"farewell\")]), context\n",
        "\n",
        "    # Check if user input is a number (potential design ID)\n",
        "    if user_input.isdigit():\n",
        "        design_id = user_input\n",
        "        # Check if the design ID exists in the dress designs\n",
        "        if design_id in dress_designs:\n",
        "            design_details = dress_designs[design_id]\n",
        "            context['chosen_design'] = design_details\n",
        "            context['design_id'] = design_id\n",
        "            response = f\"You have chosen the following design:\\nStyle: {design_details['style']}\\nPlease enter the color.\"\n",
        "            return response, context\n",
        "        else:\n",
        "            response = \"I'm sorry, I couldn't find the design with that ID. Please enter a valid design ID.\"\n",
        "            return response, context\n",
        "\n",
        "    # Check if the user has chosen a design and prompt for color and fabric\n",
        "    if 'chosen_design' in context:\n",
        "        chosen_design = context['chosen_design']\n",
        "        design_id = context['design_id']\n",
        "\n",
        "        if 'color' not in context:\n",
        "            context['color'] = user_input\n",
        "            response = f\"You have chosen the color: {user_input}.\\nPlease enter the fabric.\"\n",
        "            return response, context\n",
        "        elif 'fabric' not in context:\n",
        "            context['fabric'] = user_input\n",
        "            design_details = context['chosen_design']  # Fetch design details from context\n",
        "            response = f\"You have chosen the fabric: {user_input}\\nConfirm your selection of\\ndesign: {design_details['style']}\\ncolor: {context['color']}\\nfabric: {context['fabric']}? (Yes/No)\"\n",
        "            return response, context\n",
        "\n",
        "    if 'chosen_design' in context and user_input.lower() == 'yes':\n",
        "\n",
        "      chosen_dress_style = get_previous_line('history.txt')\n",
        "      for dress_style_data in measurements_data:\n",
        "          if dress_style_data[\"dress_style\"] == chosen_dress_style.lower():\n",
        "              dress_style = dress_style_data[\"dress_style\"]\n",
        "              print(f\"\\nDress Type: {dress_style}\")\n",
        "              print(\"Please select your measurements:\")\n",
        "\n",
        "              sizingOptions = dict(list(dress_style_data.items())[1:])\n",
        "              for category, options in sizingOptions.items():\n",
        "                  print(f\"\\n{category}:\")\n",
        "                  for option in options:\n",
        "                      print(option)\n",
        "                  selected_option = input(\"Enter your choice: \").strip().upper()\n",
        "                  while not any(selected_option.startswith(opt.split('(')[0].strip().upper()) for opt in options):\n",
        "                      print(\"Invalid choice. Please select again.\")\n",
        "                      selected_option = input(\"Enter your choice: \").strip().upper()\n",
        "                  dress_style_data[category] = selected_option\n",
        "              print(\"\\nSelected Measurements:\")\n",
        "              print(json.dumps(dress_style_data, indent=2))\n",
        "              with open('measurements.json', 'a') as f:\n",
        "                  json.dump(dress_style_data, f, indent=2)\n",
        "              dress_style_data = ''\n",
        "              break\n",
        "      response = \"Measurements selected successfully.\"\n",
        "      tailor_id = input(\"Please enter the tailor ID you want to connect to from the website: \")\n",
        "      selected_tailor = get_tailor_details(tailor_id, data)\n",
        "      if selected_tailor:\n",
        "        response = f\"Great! You've chosen tailor {selected_tailor['name']} located in {selected_tailor['location']}. Contact them at {selected_tailor['contact']} for further assistance.\"\n",
        "\n",
        "        '''# Store customer's information\n",
        "        customer_information = {\n",
        "            'measurements': context.get('chosen_design', {}),\n",
        "            'history': context.get('prev_input', '')\n",
        "        }\n",
        "        # Connect the customer and the tailor\n",
        "        print(\"Customer Information:\")\n",
        "        print(json.dumps(customer_information, indent=2))'''\n",
        "        print(\"Tailor Details:\")\n",
        "        print(json.dumps(selected_tailor, indent=2))\n",
        "      else:\n",
        "        response = \"Invalid tailor ID. Please enter a valid ID.\"\n",
        "      return response, context\n",
        "\n",
        "    elif user_input.lower() == 'no':\n",
        "        if 'fabric' in context:\n",
        "            del context['fabric']  # Remove fabric from context if already entered\n",
        "        if 'color' in context:\n",
        "            del context['color']  # Remove color from context if already entered\n",
        "        del context['chosen_design']  # Reset chosen design\n",
        "        response = \"Conversation has been rolled back! Please enter the design ID.\"\n",
        "\n",
        "        # Remove the last two lines from the history file\n",
        "        with open('history.txt', 'r+') as f:\n",
        "            lines = f.readlines()\n",
        "            f.truncate(0)  # Clear the file\n",
        "            f.seek(0)\n",
        "            f.writelines(lines[:-2])  # Write all lines except the last two\n",
        "\n",
        "        return response, context\n",
        "\n",
        "    elif re.match(r'\\breset\\b', user_input.lower()):\n",
        "        context.clear()  # Reset context\n",
        "        response = \"Conversation has been reset. Please start again.\"\n",
        "\n",
        "        # Clear the history file\n",
        "        open('history.txt', 'w').close()\n",
        "        open('measurements.json', 'w').close()\n",
        "\n",
        "        return response, context\n",
        "\n",
        "    # Vectorize the user input\n",
        "    user_tfidf = TfidVec.transform([user_input])\n",
        "\n",
        "    # Compute cosine similarity between user input and sentences\n",
        "    vals = cosine_similarity(user_tfidf, tfidf)\n",
        "    idx = vals.argsort()[0][-1]\n",
        "    req_tfidf = vals[0][idx]\n",
        "\n",
        "    if req_tfidf == 0:\n",
        "        response = \"I am sorry! I don't understand you.\"\n",
        "    else:\n",
        "        response = responses[idx][0]\n",
        "\n",
        "    # Update context with current input and response\n",
        "    context['prev_input'] = user_input\n",
        "    context['prev_response'] = response\n",
        "\n",
        "    return response, context\n",
        "\n",
        "################ MAIN BOT RUNNER ###################\n",
        "\n",
        "# Chat loop\n",
        "print(\"Bot: I'm Stark. Feel free to ask me anything\")\n",
        "\n",
        "# History File\n",
        "with open('history.txt', 'w') as f:\n",
        "    f.seek(0)\n",
        "    f.truncate()\n",
        "\n",
        "# Measurements File\n",
        "with open('measurements.json', 'w') as f:\n",
        "    f.seek(0)\n",
        "    f.truncate()\n",
        "\n",
        "context = {}\n",
        "\n",
        "while True:\n",
        "    user_input = input(\"User: \")\n",
        "\n",
        "    # Terminate conversation for certain inputs\n",
        "    if re.match(r'.*(hate|kill|die).*', user_input.lower()):\n",
        "        print(\"Bot: I'm sorry, I cannot engage in such conversations. Goodbye!\")\n",
        "        break\n",
        "\n",
        "    if 'bye' in user_input.lower():\n",
        "        print(\"Bot: Goodbye! Take care.\")\n",
        "        break\n",
        "\n",
        "    # Generate response based on user input and context\n",
        "    response, context = generate_response(user_input, context)\n",
        "\n",
        "    print(\"Bot:\", response)\n",
        "\n",
        "    # Update context\n",
        "    context['prev_input'] = user_input\n",
        "    context['prev_response'] = response\n",
        "    with open('history.txt', 'a+') as f:\n",
        "        f.write(f'{user_input}\\n{response}\\n')"
      ]
    }
  ],
  "metadata": {
    "colab": {
      "provenance": [],
      "toc_visible": true,
      "mount_file_id": "1GYttUHPOgREdXjrmiIaKxfURB3I627xb",
      "authorship_tag": "ABX9TyMyBOstR5+F3R8Bdq1q+mga"
    },
    "kernelspec": {
      "display_name": "Python 3",
      "name": "python3"
    },
    "language_info": {
      "name": "python"
    }
  },
  "nbformat": 4,
  "nbformat_minor": 0
}